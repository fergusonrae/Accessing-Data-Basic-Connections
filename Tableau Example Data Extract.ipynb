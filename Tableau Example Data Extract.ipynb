{
 "cells": [
  {
   "cell_type": "markdown",
   "metadata": {},
   "source": [
    "# To Do\n",
    "* Check for commas in the data in query and replace all with a special character\n",
    "* More efficient get_columns() call"
   ]
  },
  {
   "cell_type": "markdown",
   "metadata": {},
   "source": [
    "# Imports"
   ]
  },
  {
   "cell_type": "code",
   "execution_count": 2,
   "metadata": {
    "collapsed": true
   },
   "outputs": [],
   "source": [
    "import pickle\n",
    "import pandas as pd\n",
    "import datetime\n",
    "from sqlalchemy import create_engine\n",
    "import time\n",
    "from collections import Counter"
   ]
  },
  {
   "cell_type": "markdown",
   "metadata": {},
   "source": [
    "# Functions"
   ]
  },
  {
   "cell_type": "code",
   "execution_count": 3,
   "metadata": {
    "collapsed": false
   },
   "outputs": [],
   "source": [
    "'''Specific data queries'''\n",
    "\n",
    "def get_columns(schema, table):\n",
    "    # Start a timer\n",
    "    start = time.time()\n",
    "    \n",
    "    query = pd.read_sql_query('SELECT TOP 1 * FROM '+schema+\".\"+table+';', ENGINE)\n",
    "    return query.columns, \"\\n Time it took in seconds: \" + str(time.time() - start)\n",
    "\n",
    "def get_data(schema, table, columns, start_date, end_date, filters, groupings=False):\n",
    "    start = time.time()\n",
    "    \n",
    "    params_list = []\n",
    "    params_list.append(start_date)\n",
    "    params_list.append(end_date)\n",
    "    \n",
    "    columns_as_string = ', '.join(columns)\n",
    "    \n",
    "    filters_query_list = []\n",
    "    \n",
    "    for i in filters:\n",
    "        filters_query_list.append(' AND '+i+' = %s')\n",
    "        params_list.append(str(filters[i]))\n",
    "    \n",
    "    filters_query_string = \"\".join(filters_query_list)\n",
    "    \n",
    "    print(columns_as_string)\n",
    "    print(params_list)\n",
    "    \n",
    "    query = pd.read_sql_query(\n",
    "        'SELECT '+columns_as_string+' FROM '+schema+\".\"+table+\n",
    "        ' WHERE report_date BETWEEN %s AND %s'+filters_query_string+';', ENGINE, params=params_list)\n",
    "    \n",
    "    return query, \"\\n Time it took in seconds: \" + str(time.time() - start)\n",
    "    \n",
    "\n",
    "def get_nm_test2(schema, table, start_date, end_date):\n",
    "    '''Creates the Pkl file.\n",
    "    Schema should be a string of the schema desired'''\n",
    "\n",
    "    # Start a timer\n",
    "    start = time.time()\n",
    "\n",
    "    # Run the query to get all contents from schema\n",
    "    query = pd.read_sql_query(\n",
    "        'SELECT medium, source, campaign, adcontent, keyword, usertype, devicecategory, '+\n",
    "        'pagepath_clean, pageviews, timeonpage, uniquepageviews, entrances, exits, bounces, report_date '+\n",
    "        'FROM '+schema+\".\"+table+\n",
    "        ' WHERE report_date BETWEEN %s AND %s AND application_display_name = %s;',\n",
    "        ENGINE, params=[\n",
    "            start_date, end_date,\n",
    "            'NM Northwestern Medicine - UA (filtered) (87477211) - Segment: NM - Exclude Login Sessions']\n",
    "        )\n",
    "\n",
    "    return query, \"\\n Time it took in seconds: \" + str(time.time() - start)\n",
    "\n",
    "def get_schemas():\n",
    "    start = time.time()\n",
    "    schemas = pd.read_sql_query('select nspname from pg_namespace', ENGINE)\n",
    "    non_temp_schemas = schemas[~schemas['nspname'].str.contains('temp')]['nspname']\n",
    "    return non_temp_schemas, \"\\n Time it took in seconds: \" + str(time.time() - start)\n",
    "\n",
    "def care_and_conditions_grouping_function(data):\n",
    "    # Create group category names based on logic\n",
    "    grouping_levels = ['first level grouping', 'second level grouping']\n",
    "\n",
    "    start = time.time()\n",
    "    clean_stop_pagepath_clean = data['pagepath_clean'].str.split(pat=r'[?#\\., \\[\\]\\']')\n",
    "    split_pagepath_clean = clean_stop_pagepath_clean.str[0].str.split(pat=r'/')\n",
    "    \n",
    "    for i in range(len(grouping_levels)):\n",
    "        data[grouping_levels[i]] = split_pagepath_clean.str[i+1].str.replace('-', ' ').str.title()\n",
    "\n",
    "        df_counter = pd.DataFrame.from_dict(Counter(data[grouping_levels[i]]), orient='index').reset_index()\n",
    "        df_low = df_counter[df_counter[0] < 10]\n",
    "\n",
    "        data.loc[data[grouping_levels[i]].isin(df_low['index']), grouping_levels[i]] = \"Other\"\n",
    "        \n",
    "    data = data[data[grouping_levels[0]] == \"Conditions And Care Areas\"]\n",
    "    data = data.fillna(value=\"None\")\n",
    "\n",
    "    return data, \"\\n Time it took in seconds: \" + str(time.time() - start)"
   ]
  },
  {
   "cell_type": "markdown",
   "metadata": {},
   "source": [
    "# User Input Section"
   ]
  },
  {
   "cell_type": "markdown",
   "metadata": {},
   "source": [
    "## Define Server Connection"
   ]
  },
  {
   "cell_type": "code",
   "execution_count": 1,
   "metadata": {
    "collapsed": true
   },
   "outputs": [],
   "source": [
    "# User input\n",
    "SERVER = 'laughlin_constable.channelmix.com'\n",
    "DATABASE = 'laughlin_constable'\n",
    "USERNAME = 'laughlin_constable_reporting'\n",
    "PASSWORD = 'gF:0=A3gOh:4W2r$Zi~7Va6-'\n",
    "PORT = '5439'"
   ]
  },
  {
   "cell_type": "code",
   "execution_count": 4,
   "metadata": {
    "collapsed": false
   },
   "outputs": [],
   "source": [
    "ENGINE = create_engine(\n",
    "    'postgresql://'+USERNAME+':'+PASSWORD+'@'+SERVER+':'+PORT+'/'+DATABASE)"
   ]
  },
  {
   "cell_type": "markdown",
   "metadata": {},
   "source": [
    "## Select Schema and Table"
   ]
  },
  {
   "cell_type": "code",
   "execution_count": 5,
   "metadata": {
    "collapsed": false
   },
   "outputs": [
    {
     "name": "stdout",
     "output_type": "stream",
     "text": [
      "['pg_toast' 'pg_internal' 'bon_ton' 'bright_start_529' 'cuna' 'master_lock'\n",
      " 'medela' 'mobium' 'northwestern_medicine' 'paris_presents' 'pdc' 'public'\n",
      " 'sears_auto_center' 'thedacare' 'travel_wisconsin' 'palermos'\n",
      " 'el_camino_hospital' 'bemis_company_inc' 'peggy_notebaert_nature_museum'\n",
      " 'pg_catalog' 'information_schema' 'jewelers_mutual' 'laughlin_constable'\n",
      " 'baird' 'butterfly' 'fram' 'acuity']\n"
     ]
    }
   ],
   "source": [
    "# Getting a list of schemas in the database\n",
    "\n",
    "schemas, schema_time = get_schemas()\n",
    "print(schemas.values)"
   ]
  },
  {
   "cell_type": "code",
   "execution_count": 29,
   "metadata": {
    "collapsed": false
   },
   "outputs": [
    {
     "name": "stdout",
     "output_type": "stream",
     "text": [
      "Enter the schema desired: northwestern_medicine\n"
     ]
    }
   ],
   "source": [
    "# User input schema\n",
    "# Select one of the schemas above\n",
    "\n",
    "#SCHEMA = 'northwestern_medicine'\n",
    "SCHEMA = input(\"Enter the schema desired: \")"
   ]
  },
  {
   "cell_type": "code",
   "execution_count": 30,
   "metadata": {
    "collapsed": false,
    "scrolled": true
   },
   "outputs": [
    {
     "name": "stdout",
     "output_type": "stream",
     "text": [
      "                                   table_name\n",
      "0          v_google_search_console_query_page\n",
      "1                   v_bing_keyword_match_type\n",
      "2                          v_ga_raq_doc_names\n",
      "3                     v_ga_raq_location_names\n",
      "4                                 v_ga_pdf_dl\n",
      "5                   v_ga_in_site_search_terms\n",
      "6                          v_adwords_campaign\n",
      "7                            v_bing_ad_detail\n",
      "8                             v_bing_campaign\n",
      "9                           v_bing_conversion\n",
      "10                             v_bing_keyword\n",
      "11                        v_dfa_brand_monthly\n",
      "12                v_dfa_chicago_proton_center\n",
      "13                          v_dfa_kish_health\n",
      "14                            v_facebook_page\n",
      "15                            v_facebook_post\n",
      "16                             v_ga_geography\n",
      "17                         v_twitter_activity\n",
      "18                         v_twitter_follower\n",
      "19                              v_facebook_ad\n",
      "20                            v_ga_technology\n",
      "21                                 v_ga_event\n",
      "22                          v_adwords_keyword\n",
      "23                            v_ga_event_page\n",
      "24                v_ga_in_site_search_numbers\n",
      "25                          v_ga_profile_mctc\n",
      "26                        v_ga_locations_mctc\n",
      "27              v_ga_percent_who_view_profile\n",
      "28            v_ga_percent_who_view_locations\n",
      "29                      v_ga_percent_who_mctc\n",
      "30           v_ga_percent_who_contact_us_form\n",
      "31  v_ga_percent_who_click_to_online_bill_pay\n",
      "32                       v_ga_percent_who_fal\n",
      "33                        v_ga_percent_mobile\n",
      "34                v_ga_total_users_and_visits\n",
      "35                       v_ga_percent_who_fad\n",
      "36                       v_ga_percent_who_req\n",
      "37                  v_ga_profile_scroll_depth\n",
      "38                  v_ga_organic_scroll_depth\n",
      "39                v_ga_locations_scroll_depth\n",
      "40                    v_ga_appointment_funnel\n",
      "41          v_ga_total_users_and_visits_daily\n",
      "42        v_ga_total_users_and_visits_monthly\n",
      "43                                  v_ga_page\n",
      "44                               v_ga_session\n",
      "45      base_google_search_console_impression\n",
      "46           base_google_search_console_query\n"
     ]
    }
   ],
   "source": [
    "# Getting list of tables for a particular schema\n",
    "\n",
    "available_tables = pd.read_sql_query(\n",
    "    'select table_name from laughlin_constable.INFORMATION_SCHEMA.TABLES where table_schema = %s;',\n",
    "        ENGINE, params=[\n",
    "            SCHEMA])\n",
    "print(available_tables)"
   ]
  },
  {
   "cell_type": "code",
   "execution_count": 32,
   "metadata": {
    "collapsed": false
   },
   "outputs": [
    {
     "name": "stdout",
     "output_type": "stream",
     "text": [
      "Enter the table desired: v_ga_page\n"
     ]
    }
   ],
   "source": [
    "# USER INPUT\n",
    "# Select which table you want access to\n",
    "#TABLE = 'v_ga_page'\n",
    "TABLE = input(\"Enter the table desired: \")"
   ]
  },
  {
   "cell_type": "markdown",
   "metadata": {},
   "source": [
    "## Select Filters, Groupings, Columns, Date Range, Update Daily"
   ]
  },
  {
   "cell_type": "code",
   "execution_count": 33,
   "metadata": {
    "collapsed": false
   },
   "outputs": [
    {
     "name": "stdout",
     "output_type": "stream",
     "text": [
      "Index(['medium', 'source', 'campaign', 'adcontent', 'keyword', 'usertype',\n",
      "       'devicecategory', 'pagepath', 'pagepath_clean', 'pageviews',\n",
      "       'timeonpage', 'uniquepageviews', 'entrances', 'exits', 'bounces',\n",
      "       'report_date', 'report_length_days', 'insert_date',\n",
      "       'application_display_name'],\n",
      "      dtype='object')\n",
      "\n",
      " Time it took in seconds: 0.7202911376953125\n"
     ]
    }
   ],
   "source": [
    "# TODO: find a more efficient way to get the column names\n",
    "# Right now, calling the first row and reading the columns instead of reading directly\n",
    "columns, columns_time = get_columns(SCHEMA, TABLE)\n",
    "print(columns)\n",
    "print(columns_time)"
   ]
  },
  {
   "cell_type": "code",
   "execution_count": 34,
   "metadata": {
    "collapsed": true
   },
   "outputs": [],
   "source": [
    "# Define empty column and dict\n",
    "grouping_column_list = []\n",
    "filters_dict = {}"
   ]
  },
  {
   "cell_type": "code",
   "execution_count": 35,
   "metadata": {
    "collapsed": true
   },
   "outputs": [],
   "source": [
    "# FILTERS HERE\n",
    "# These are chosen by user\n",
    "# Select a column to filter on, then select what columns you want to include\n",
    "\n",
    "# Filter by application display name mandatory, otherwise there is duplicate data\n",
    "filters_dict[\n",
    "    'application_display_name'] = 'NM Northwestern Medicine - UA (filtered) (87477211) - Segment: NM - Exclude Login Sessions'"
   ]
  },
  {
   "cell_type": "code",
   "execution_count": 36,
   "metadata": {
    "collapsed": false
   },
   "outputs": [],
   "source": [
    "# GROUPINGS HERE\n",
    "# These are defined by us, need to request one for a client\n",
    "# User would decide on what to apply here, but they are not actually applied until after the data is pulled down\n",
    "\n",
    "# Columns that the user selects to be grouped on must be included in the initial query, but do not necessarily\n",
    "#need to be included in the final export. If they did not indicate keeping the columns, they can be deleted\n",
    "#from the dataframe before converting to a csv.\n",
    "\n",
    "care_and_conditions_grouping = True\n",
    "\n",
    "if care_and_conditions_grouping:\n",
    "    grouping_column_list.append('pagepath_clean')"
   ]
  },
  {
   "cell_type": "code",
   "execution_count": 37,
   "metadata": {
    "collapsed": true
   },
   "outputs": [],
   "source": [
    "# USER INPUT\n",
    "# Select columns to interact with on the screen, data to pull in\n",
    "# Don't need to select columns just because we use them in where\n",
    "\n",
    "COLUMNS_FOR_TABLEAU = [\n",
    "    'medium', 'source', 'campaign', 'usertype', 'devicecategory', 'pagepath_clean', 'pageviews', 'report_date', 'timeonpage']\n",
    "\n",
    "# column_list needs to be a set becuase of the potential to add the same column many time for different requirement\n",
    "columns_list = set(grouping_column_list + COLUMNS_FOR_TABLEAU)\n",
    "START_DATE = datetime.date(2016, 8, 21)\n",
    "END_DATE = datetime.date(2017, 12, 31) # Possibly left blank to go to today\n",
    "\n",
    "UPDATE_DAILY = False # Only available if END_DATE is left blank"
   ]
  },
  {
   "cell_type": "markdown",
   "metadata": {},
   "source": [
    "## Run Queries and Collect Data"
   ]
  },
  {
   "cell_type": "code",
   "execution_count": 38,
   "metadata": {
    "collapsed": false,
    "scrolled": true
   },
   "outputs": [
    {
     "name": "stdout",
     "output_type": "stream",
     "text": [
      "pagepath_clean, pageviews, report_date, timeonpage, source, devicecategory, campaign, medium, usertype\n",
      "[datetime.date(2016, 8, 21), datetime.date(2017, 12, 31), 'NM Northwestern Medicine - UA (filtered) (87477211) - Segment: NM - Exclude Login Sessions']\n",
      "                                            pagepath_clean  pageviews  \\\n",
      "0                                                        /          1   \n",
      "1                                             /billpatment          1   \n",
      "2                                                    /help          7   \n",
      "3        /location/lake-forest-hospital/hospital-guide-...          1   \n",
      "4         /location/lake-forest-hospital/womens-health-lfh          1   \n",
      "5        /location/northwestern-memorial-hospital/caree...          1   \n",
      "6        /location/northwestern-memorial-hospital/hospi...          1   \n",
      "7        /location/northwestern-memorial-hospital/hospi...          2   \n",
      "8        /location/prentice-womens-hospital/hospital-gu...          1   \n",
      "9        /location/prentice-womens-hospital/hospital-gu...          1   \n",
      "10                                /medical-records-request          7   \n",
      "11                                                /payment          1   \n",
      "12       /referring-medical-professional/for-healthcare...          1   \n",
      "13                                                       /        153   \n",
      "14       /centers-institutes-and-services-at-northweste...          1   \n",
      "15                                                   /help          7   \n",
      "16                /location/northwestern-memorial-hospital         30   \n",
      "17       /location/northwestern-memorial-hospital/hospi...          4   \n",
      "18       /location/northwestern-memorial-hospital/hospi...          2   \n",
      "19       /location/northwestern-memorial-hospital/hospi...          1   \n",
      "20       /location/northwestern-memorial-hospital/hospi...          2   \n",
      "21       /location/prentice-womens-hospital/hospital-gu...          4   \n",
      "22       /location/prentice-womens-hospital/hospital-gu...          1   \n",
      "23       /location/prentice-womens-hospital/hospital-gu...          2   \n",
      "24                                /medical-records-request          2   \n",
      "25                /location/northwestern-memorial-hospital          9   \n",
      "26       /location/northwestern-memorial-hospital/hospi...          1   \n",
      "27                      /location/prentice-womens-hospital          2   \n",
      "28       /location/prentice-womens-hospital/hospital-gu...          1   \n",
      "29                                         /privacy-policy          1   \n",
      "...                                                    ...        ...   \n",
      "5527746                                           /doctors          1   \n",
      "5527747              /doctors/1134150360/samantha-b-conrad          1   \n",
      "5527748          /doctors/1386803716/katherine-a-kirley-md          0   \n",
      "5527749              /doctors/1396973095/laura-mcintyre-md          0   \n",
      "5527750             /doctors/1922087725/vicki-r-samuels-md          0   \n",
      "5527751                /doctors/1992070148/priya-p-goel-do          0   \n",
      "5527752                                           /doctors          0   \n",
      "5527753                                           /doctors          0   \n",
      "5527754                                         /locations          2   \n",
      "5527755                 /locations/central-dupage-hospital          1   \n",
      "5527756            /locations/immediate-care-streeterville          1   \n",
      "5527757    /locations/immediate-care-streeterville-checkin          1   \n",
      "5527758                    /locations/sandwich-main-street          0   \n",
      "5527759      /locations/cancer-center-valley-west-hospital          1   \n",
      "5527760                /locations/prentice-womens-hospital          1   \n",
      "5527761                                                  /          2   \n",
      "5527762               /doctors/1386759710/marie-e-corcoran          2   \n",
      "5527763            /doctors/1386759710/marie-e-corcoran-do          0   \n",
      "5527764  /locations/central-dupage-hospital-outpatient-...          1   \n",
      "5527765              /locations/convenient-care-naperville          3   \n",
      "5527766                 /locations/immediate-care-glenview          1   \n",
      "5527767                                /locations/lakeview          1   \n",
      "5527768            /locations/convenient-care-bloomingdale          1   \n",
      "5527769    /locations/convenient-care-bloomingdale-checkin          1   \n",
      "5527770   /locations/lake-forest-health-and-fitness-center          1   \n",
      "5527771   /locations/lake-forest-health-and-fitness-center          2   \n",
      "5527772                                /locations/lakeview          1   \n",
      "5527773                /doctors/1013993336/tiffany-a-karas          1   \n",
      "5527774           /locations/convenient-care-saint-charles          1   \n",
      "5527775    /locations/convenient-care-bloomingdale-checkin          0   \n",
      "\n",
      "        report_date  timeonpage    source devicecategory         campaign  \\\n",
      "0        2016-08-21        14.0  (direct)        desktop        (not set)   \n",
      "1        2016-08-21       359.0  (direct)        desktop        (not set)   \n",
      "2        2016-08-21       156.0  (direct)        desktop        (not set)   \n",
      "3        2016-08-21        16.0  (direct)        desktop        (not set)   \n",
      "4        2016-08-21        18.0  (direct)        desktop        (not set)   \n",
      "5        2016-08-21        15.0  (direct)        desktop        (not set)   \n",
      "6        2016-08-21        65.0  (direct)        desktop        (not set)   \n",
      "7        2016-08-21       327.0  (direct)        desktop        (not set)   \n",
      "8        2016-08-21         3.0  (direct)        desktop        (not set)   \n",
      "9        2016-08-21        15.0  (direct)        desktop        (not set)   \n",
      "10       2016-08-21      2129.0  (direct)        desktop        (not set)   \n",
      "11       2016-08-21         0.0  (direct)        desktop        (not set)   \n",
      "12       2016-08-21        15.0  (direct)        desktop        (not set)   \n",
      "13       2016-08-21      1815.0  (direct)         mobile        (not set)   \n",
      "14       2016-08-21         0.0  (direct)         mobile        (not set)   \n",
      "15       2016-08-21       244.0  (direct)         mobile        (not set)   \n",
      "16       2016-08-21      1632.0  (direct)         mobile        (not set)   \n",
      "17       2016-08-21        40.0  (direct)         mobile        (not set)   \n",
      "18       2016-08-21        95.0  (direct)         mobile        (not set)   \n",
      "19       2016-08-21        15.0  (direct)         mobile        (not set)   \n",
      "20       2016-08-21        45.0  (direct)         mobile        (not set)   \n",
      "21       2016-08-21       101.0  (direct)         mobile        (not set)   \n",
      "22       2016-08-21        27.0  (direct)         mobile        (not set)   \n",
      "23       2016-08-21        18.0  (direct)         mobile        (not set)   \n",
      "24       2016-08-21        37.0  (direct)         mobile        (not set)   \n",
      "25       2016-08-21      2935.0  (direct)         tablet        (not set)   \n",
      "26       2016-08-21        15.0  (direct)         tablet        (not set)   \n",
      "27       2016-08-21        20.0  (direct)         tablet        (not set)   \n",
      "28       2016-08-21         1.0  (direct)         tablet        (not set)   \n",
      "29       2016-08-21        14.0  (direct)         tablet        (not set)   \n",
      "...             ...         ...       ...            ...              ...   \n",
      "5527746  2017-12-31       255.0      yext         mobile  online listings   \n",
      "5527747  2017-12-31        14.0      yext         mobile  online listings   \n",
      "5527748  2017-12-31         0.0      yext         mobile  online listings   \n",
      "5527749  2017-12-31         0.0      yext         mobile  online listings   \n",
      "5527750  2017-12-31         0.0      yext         mobile  online listings   \n",
      "5527751  2017-12-31         0.0      yext         mobile  online listings   \n",
      "5527752  2017-12-31         0.0      yext         mobile  online listings   \n",
      "5527753  2017-12-31         0.0      yext         mobile  online listings   \n",
      "5527754  2017-12-31       687.0      yext         mobile  online listings   \n",
      "5527755  2017-12-31         0.0      yext         mobile  online listings   \n",
      "5527756  2017-12-31        27.0      yext         mobile  online listings   \n",
      "5527757  2017-12-31         0.0      yext         mobile  online listings   \n",
      "5527758  2017-12-31         0.0      yext         mobile  online listings   \n",
      "5527759  2017-12-31        33.0      yext         tablet  online listings   \n",
      "5527760  2017-12-31       145.0      yext         tablet  online listings   \n",
      "5527761  2017-12-31       127.0      yext        desktop  online listings   \n",
      "5527762  2017-12-31        38.0      yext        desktop  online listings   \n",
      "5527763  2017-12-31         0.0      yext        desktop  online listings   \n",
      "5527764  2017-12-31        26.0      yext        desktop  online listings   \n",
      "5527765  2017-12-31        29.0      yext        desktop  online listings   \n",
      "5527766  2017-12-31         0.0      yext         mobile  online listings   \n",
      "5527767  2017-12-31         0.0      yext         mobile  online listings   \n",
      "5527768  2017-12-31        12.0      yext         mobile  online listings   \n",
      "5527769  2017-12-31        90.0      yext         mobile  online listings   \n",
      "5527770  2017-12-31        51.0      yext         mobile  online listings   \n",
      "5527771  2017-12-31       163.0      yext         mobile  online listings   \n",
      "5527772  2017-12-31         0.0      yext         mobile  online listings   \n",
      "5527773  2017-12-31        90.0      yext        desktop  online listings   \n",
      "5527774  2017-12-31         0.0      yext         mobile  online listings   \n",
      "5527775  2017-12-31         0.0      yext         mobile  online listings   \n",
      "\n",
      "         medium           usertype  \n",
      "0        (none)        New Visitor  \n",
      "1        (none)        New Visitor  \n",
      "2        (none)        New Visitor  \n",
      "3        (none)        New Visitor  \n",
      "4        (none)        New Visitor  \n",
      "5        (none)        New Visitor  \n",
      "6        (none)        New Visitor  \n",
      "7        (none)        New Visitor  \n",
      "8        (none)        New Visitor  \n",
      "9        (none)        New Visitor  \n",
      "10       (none)        New Visitor  \n",
      "11       (none)        New Visitor  \n",
      "12       (none)        New Visitor  \n",
      "13       (none)        New Visitor  \n",
      "14       (none)        New Visitor  \n",
      "15       (none)        New Visitor  \n",
      "16       (none)        New Visitor  \n",
      "17       (none)        New Visitor  \n",
      "18       (none)        New Visitor  \n",
      "19       (none)        New Visitor  \n",
      "20       (none)        New Visitor  \n",
      "21       (none)        New Visitor  \n",
      "22       (none)        New Visitor  \n",
      "23       (none)        New Visitor  \n",
      "24       (none)        New Visitor  \n",
      "25       (none)        New Visitor  \n",
      "26       (none)        New Visitor  \n",
      "27       (none)        New Visitor  \n",
      "28       (none)        New Visitor  \n",
      "29       (none)        New Visitor  \n",
      "...         ...                ...  \n",
      "5527746   other        New Visitor  \n",
      "5527747   other        New Visitor  \n",
      "5527748   other        New Visitor  \n",
      "5527749   other        New Visitor  \n",
      "5527750   other        New Visitor  \n",
      "5527751   other        New Visitor  \n",
      "5527752   other        New Visitor  \n",
      "5527753   other        New Visitor  \n",
      "5527754   other        New Visitor  \n",
      "5527755   other        New Visitor  \n",
      "5527756   other        New Visitor  \n",
      "5527757   other        New Visitor  \n",
      "5527758   other        New Visitor  \n",
      "5527759   other        New Visitor  \n",
      "5527760   other        New Visitor  \n",
      "5527761   other  Returning Visitor  \n",
      "5527762   other  Returning Visitor  \n",
      "5527763   other  Returning Visitor  \n",
      "5527764   other  Returning Visitor  \n",
      "5527765   other  Returning Visitor  \n",
      "5527766   other  Returning Visitor  \n",
      "5527767   other  Returning Visitor  \n",
      "5527768   other        New Visitor  \n",
      "5527769   other        New Visitor  \n",
      "5527770   other        New Visitor  \n",
      "5527771   other        New Visitor  \n",
      "5527772   other        New Visitor  \n",
      "5527773   other        New Visitor  \n",
      "5527774   other        New Visitor  \n",
      "5527775   other  Returning Visitor  \n",
      "\n",
      "[5527776 rows x 9 columns]\n",
      "\n",
      " Time it took in seconds: 197.1088261604309\n"
     ]
    }
   ],
   "source": [
    "data, data_time = get_data(SCHEMA, TABLE, columns_list, START_DATE, END_DATE, filters_dict)\n",
    "print(data)\n",
    "print(data_time)"
   ]
  },
  {
   "cell_type": "code",
   "execution_count": 21,
   "metadata": {
    "collapsed": false
   },
   "outputs": [
    {
     "data": {
      "text/plain": [
       "12433170"
      ]
     },
     "execution_count": 21,
     "metadata": {},
     "output_type": "execute_result"
    }
   ],
   "source": [
    "data['pageviews'].sum()"
   ]
  },
  {
   "cell_type": "markdown",
   "metadata": {},
   "source": [
    "## Do Custom Groupings"
   ]
  },
  {
   "cell_type": "code",
   "execution_count": 53,
   "metadata": {
    "collapsed": false
   },
   "outputs": [],
   "source": [
    "# If the grouping was selected above, do this function\n",
    "if care_and_conditions_grouping:\n",
    "    data, care_and_conditions_grouping_time = care_and_conditions_grouping_function(data)\n",
    "    "
   ]
  },
  {
   "cell_type": "code",
   "execution_count": 34,
   "metadata": {
    "collapsed": false
   },
   "outputs": [
    {
     "name": "stdout",
     "output_type": "stream",
     "text": [
      "                  source devicecategory    keyword    medium  \\\n",
      "29422  mail.laughlin.com        desktop  (not set)  referral   \n",
      "38272  mail.laughlin.com        desktop  (not set)  referral   \n",
      "42404    docs.google.com        desktop  (not set)  referral   \n",
      "43338           (direct)        desktop  (not set)    (none)   \n",
      "43403           (direct)         mobile  (not set)    (none)   \n",
      "\n",
      "                usertype report_date  pageviews   campaign  \\\n",
      "29422  Returning Visitor  2016-09-15          2  (not set)   \n",
      "38272  Returning Visitor  2016-09-16          3  (not set)   \n",
      "42404  Returning Visitor  2016-09-23          1  (not set)   \n",
      "43338        New Visitor  2016-09-26          4  (not set)   \n",
      "43403  Returning Visitor  2016-09-26          1  (not set)   \n",
      "\n",
      "                                          pagepath_clean  \\\n",
      "29422       /conditions-and-care-areas/surgical-services   \n",
      "38272  /conditions-and-care-areas/treatments/single-i...   \n",
      "42404     /conditions-and-care-areas/cardiovascular-care   \n",
      "43338  /conditions-and-care-areas/surgical-services/s...   \n",
      "43403  /conditions-and-care-areas/integrative-medicin...   \n",
      "\n",
      "            first level grouping second level grouping  \\\n",
      "29422  Conditions And Care Areas     Surgical Services   \n",
      "38272  Conditions And Care Areas            Treatments   \n",
      "42404  Conditions And Care Areas   Cardiovascular Care   \n",
      "43338  Conditions And Care Areas     Surgical Services   \n",
      "43403  Conditions And Care Areas  Integrative Medicine   \n",
      "\n",
      "                                   third level grouping  \n",
      "29422                                              None  \n",
      "38272               Single Incision Laproscopic Surgery  \n",
      "42404                                              None  \n",
      "43338  Surgical Services At Our Academic Medical Center  \n",
      "43403                               Behavioral Medicine  \n"
     ]
    }
   ],
   "source": [
    "print(data.head())"
   ]
  },
  {
   "cell_type": "markdown",
   "metadata": {},
   "source": [
    "## Export to CSV"
   ]
  },
  {
   "cell_type": "code",
   "execution_count": 35,
   "metadata": {
    "collapsed": false
   },
   "outputs": [
    {
     "name": "stdout",
     "output_type": "stream",
     "text": [
      "8.16564393043518\n"
     ]
    }
   ],
   "source": [
    "# Consolidate columns for export so it only contains those desired\n",
    "data = data.drop(list(set(grouping_column_list) - set(COLUMNS_FOR_TABLEAU)), axis=1)\n",
    "\n",
    "# Export to csv\n",
    "start_csv_export = time.time()\n",
    "data.to_csv('tableau_example_extract.csv', index=False)\n",
    "time_csv_export = time.time() - start_csv_export\n",
    "print(time_csv_export)"
   ]
  }
 ],
 "metadata": {
  "kernelspec": {
   "display_name": "Python 3",
   "language": "python",
   "name": "python3"
  },
  "language_info": {
   "codemirror_mode": {
    "name": "ipython",
    "version": 3
   },
   "file_extension": ".py",
   "mimetype": "text/x-python",
   "name": "python",
   "nbconvert_exporter": "python",
   "pygments_lexer": "ipython3",
   "version": "3.6.0"
  }
 },
 "nbformat": 4,
 "nbformat_minor": 2
}
