{
 "cells": [
  {
   "cell_type": "markdown",
   "metadata": {},
   "source": [
    "# About\n",
    "\n",
    "This notebook provides example code for connecting to and interacting with the Watson Tone Analyzer service.\n",
    "\n",
    "## What You Need\n",
    "The username and password of a Watson account, set either directly or using a separate file. An example json file is provided which you will need to adjust before running the below code.\n",
    "\n",
    "If set directly, do not push credentials in notebook into Git."
   ]
  },
  {
   "cell_type": "markdown",
   "metadata": {},
   "source": [
    "## Imports"
   ]
  },
  {
   "cell_type": "code",
   "execution_count": null,
   "metadata": {
    "scrolled": true
   },
   "outputs": [],
   "source": [
    "# General\n",
    "import json\n",
    "\n",
    "from functions import create_tone_analyzer"
   ]
  },
  {
   "cell_type": "markdown",
   "metadata": {},
   "source": [
    "## API Connection"
   ]
  },
  {
   "cell_type": "code",
   "execution_count": null,
   "metadata": {},
   "outputs": [],
   "source": [
    "with open('creds_example.json') as f:\n",
    "    creds = json.load(f)\n",
    "\n",
    "USERNAME = creds['tone_analyzer']['username']\n",
    "PASSWORD = creds['tone_analyzer']['password']\n",
    "\n",
    "tone_analyzer = create_tone_analyzer(USERNAME, PASSWORD)"
   ]
  }
 ],
 "metadata": {
  "kernelspec": {
   "display_name": "Python 3",
   "language": "python",
   "name": "python3"
  },
  "language_info": {
   "codemirror_mode": {
    "name": "ipython",
    "version": 3
   },
   "file_extension": ".py",
   "mimetype": "text/x-python",
   "name": "python",
   "nbconvert_exporter": "python",
   "pygments_lexer": "ipython3",
   "version": "3.7.1"
  }
 },
 "nbformat": 4,
 "nbformat_minor": 2
}
