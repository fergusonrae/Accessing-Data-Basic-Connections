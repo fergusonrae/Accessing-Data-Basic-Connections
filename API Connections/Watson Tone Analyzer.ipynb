{
 "cells": [
  {
   "cell_type": "markdown",
   "metadata": {},
   "source": [
    "# About\n",
    "\n",
    "This notebook provides example code for connecting to and interacting with the Watson Tone Analyzer service.\n",
    "\n",
    "## What You Need\n",
    "The username and password of a Watson account, set either directly or using a separate file. An example json file is provided which you will need to adjust before running the below code.\n",
    "\n",
    "If set directly, do not push credentials in notebook into Git."
   ]
  },
  {
   "cell_type": "markdown",
   "metadata": {},
   "source": [
    "## Imports"
   ]
  },
  {
   "cell_type": "code",
   "execution_count": null,
   "metadata": {},
   "outputs": [],
   "source": [
    "# General\n",
    "import datetime\n",
    "import json\n",
    "\n",
    "# Data structures\n",
    "import pandas as pd\n",
    "\n",
    "# Api connection imports\n",
    "from requests_oauthlib import OAuth1\n",
    "from watson_developer_cloud import ToneAnalyzerV3"
   ]
  },
  {
   "cell_type": "markdown",
   "metadata": {},
   "source": [
    "## Constants"
   ]
  },
  {
   "cell_type": "code",
   "execution_count": null,
   "metadata": {
    "scrolled": true
   },
   "outputs": [],
   "source": [
    "# Possible tones that the api will classify against\n",
    "LIST_OF_TONES = ['Analytical', 'Tentative', 'Joy', 'Sadness', 'Anger', 'Confident', 'Fear']\n",
    "\n",
    "CONTENT_TYPE = 'application/json'\n",
    "TONE_ANALYZER_URL = \"https://gateway.watsonplatform.net/tone-analyzer/api\"\n",
    "\n",
    "# You can replace this with current date to get the most current version\n",
    "# Different versions may be different, so when in production, use the same version for everything\n",
    "VERSION = '2018-05-10'"
   ]
  },
  {
   "cell_type": "markdown",
   "metadata": {},
   "source": [
    "## API Connection"
   ]
  },
  {
   "cell_type": "code",
   "execution_count": null,
   "metadata": {},
   "outputs": [],
   "source": [
    "with open('creds_example.json') as f:\n",
    "    creds = json.load(f)\n",
    "\n",
    "# Create Tone Analyzer Connection\n",
    "tone_analyzer = ToneAnalyzerV3(\n",
    "    username=creds['tone_analyzer']['username'],\n",
    "    password=creds['tone_analyzer']['password'],\n",
    "    version=VERSION,\n",
    "    url=TONE_ANALYZER_URL\n",
    ")"
   ]
  },
  {
   "cell_type": "markdown",
   "metadata": {},
   "source": [
    "# Get Tones"
   ]
  },
  {
   "cell_type": "code",
   "execution_count": null,
   "metadata": {},
   "outputs": [],
   "source": [
    "# Returns all information json datatype\n",
    "# Will include sentence by sentence tone if available\n",
    "# Use this if you want to explore everything returned by the call\n",
    "def get_raw_tone_json(text):\n",
    "    tone = tone_analyzer.tone({\"text\": text}, content_type)\n",
    "    return tone\n",
    "\n",
    "\n",
    "# Takes text, returns a dictionary of overall document tones and their scores from Watson\n",
    "# If it fails, returns a dictionary of None objects\n",
    "# Can fail for many reasons, including just timing out, so error handling should be more robust than this\n",
    "# Does not return sentence by sentence tones\n",
    "# TODO: better error handling\n",
    "def get_clean_tones(text):\n",
    "    dict_of_tones = dict()\n",
    "    try:\n",
    "        tone = tone_analyzer.tone({\"text\": text}, content_type)\n",
    "        for tone_results in tone['document_tone']['tones']:\n",
    "            dict_of_tones[tone_results['tone_name']] = tone_results['score']\n",
    "        return dict_of_tones\n",
    "    except:\n",
    "        for tone in LIST_OF_TONES:\n",
    "            dict_of_tones[tone] = None\n",
    "        return dict_of_tones"
   ]
  }
 ],
 "metadata": {
  "kernelspec": {
   "display_name": "Python 3",
   "language": "python",
   "name": "python3"
  },
  "language_info": {
   "codemirror_mode": {
    "name": "ipython",
    "version": 3
   },
   "file_extension": ".py",
   "mimetype": "text/x-python",
   "name": "python",
   "nbconvert_exporter": "python",
   "pygments_lexer": "ipython3",
   "version": "3.7.1"
  }
 },
 "nbformat": 4,
 "nbformat_minor": 2
}
